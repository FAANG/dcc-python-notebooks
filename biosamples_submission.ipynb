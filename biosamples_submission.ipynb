{
 "cells": [
  {
   "cell_type": "markdown",
   "metadata": {},
   "source": [
    "# Notebook for submission data to BioSamples"
   ]
  },
  {
   "cell_type": "code",
   "execution_count": 1,
   "metadata": {},
   "outputs": [],
   "source": [
    "import subprocess\n",
    "import json\n",
    "import os"
   ]
  },
  {
   "cell_type": "markdown",
   "metadata": {},
   "source": [
    "### 1 (required). Please make sure to signup in AAP webpage (https://aai.ebi.ac.uk/registerUser), then provide your username and passwork in next cell"
   ]
  },
  {
   "cell_type": "code",
   "execution_count": 2,
   "metadata": {},
   "outputs": [],
   "source": [
    "your_aap_username = \"\"\n",
    "your_aap_password = \"\""
   ]
  },
  {
   "cell_type": "markdown",
   "metadata": {},
   "source": [
    "### 2 (required). Fetching your token. Keep in mind that the token is valid for 1 hour. After that you need to fetch new one."
   ]
  },
  {
   "cell_type": "code",
   "execution_count": 3,
   "metadata": {},
   "outputs": [],
   "source": [
    "cmd = f\"curl -u {your_aap_username}:{your_aap_password} https://api.aai.ebi.ac.uk/auth\"\n",
    "proc = subprocess.Popen([cmd], stdout=subprocess.PIPE, shell=True)\n",
    "(token, err) = proc.communicate()\n",
    "token = token.decode(\"utf-8\")"
   ]
  },
  {
   "cell_type": "markdown",
   "metadata": {},
   "source": [
    "### 3 (optional). Create team. Please provide 'description' - a description of your team (optional) and 'centre_name' - name of your institute or project (required)"
   ]
  },
  {
   "cell_type": "code",
   "execution_count": 4,
   "metadata": {},
   "outputs": [],
   "source": [
    "description = \"My lab group\"\n",
    "centre_name = \"An Institute\"\n",
    "team_json = {\n",
    "    \"description\": description,\n",
    "    \"centreName\": centre_name\n",
    "}\n",
    "team_json = json.dumps(team_json)"
   ]
  },
  {
   "cell_type": "code",
   "execution_count": 5,
   "metadata": {},
   "outputs": [],
   "source": [
    "cmd = f\"curl 'https://submission.ebi.ac.uk/api/user/teams' -i -X POST -H 'Content-Type: application/json' -H 'Accept: application/hal+json' -H 'Authorization: Bearer {token}' -d '{team_json}'\"\n",
    "proc = subprocess.Popen([cmd], stdout=subprocess.PIPE, shell=True)\n",
    "(out, err) = proc.communicate()"
   ]
  },
  {
   "cell_type": "markdown",
   "metadata": {},
   "source": [
    "### 4 (optional). Managing your team"
   ]
  },
  {
   "cell_type": "code",
   "execution_count": 6,
   "metadata": {},
   "outputs": [
    {
     "ename": "KeyError",
     "evalue": "'userReference'",
     "output_type": "error",
     "traceback": [
      "\u001b[0;31m---------------------------------------------------------------------------\u001b[0m",
      "\u001b[0;31mKeyError\u001b[0m                                  Traceback (most recent call last)",
      "\u001b[0;32m<ipython-input-6-175dd05032d2>\u001b[0m in \u001b[0;36m<module>\u001b[0;34m\u001b[0m\n\u001b[1;32m      4\u001b[0m \u001b[0;34m(\u001b[0m\u001b[0mout\u001b[0m\u001b[0;34m,\u001b[0m \u001b[0merr\u001b[0m\u001b[0;34m)\u001b[0m \u001b[0;34m=\u001b[0m \u001b[0mproc\u001b[0m\u001b[0;34m.\u001b[0m\u001b[0mcommunicate\u001b[0m\u001b[0;34m(\u001b[0m\u001b[0;34m)\u001b[0m\u001b[0;34m\u001b[0m\u001b[0;34m\u001b[0m\u001b[0m\n\u001b[1;32m      5\u001b[0m \u001b[0mout\u001b[0m \u001b[0;34m=\u001b[0m \u001b[0mjson\u001b[0m\u001b[0;34m.\u001b[0m\u001b[0mloads\u001b[0m\u001b[0;34m(\u001b[0m\u001b[0mout\u001b[0m\u001b[0;34m.\u001b[0m\u001b[0mdecode\u001b[0m\u001b[0;34m(\u001b[0m\u001b[0;34m'utf-8'\u001b[0m\u001b[0;34m)\u001b[0m\u001b[0;34m)\u001b[0m\u001b[0;34m\u001b[0m\u001b[0;34m\u001b[0m\u001b[0m\n\u001b[0;32m----> 6\u001b[0;31m \u001b[0muser_reference\u001b[0m \u001b[0;34m=\u001b[0m \u001b[0mout\u001b[0m\u001b[0;34m[\u001b[0m\u001b[0;34m'userReference'\u001b[0m\u001b[0;34m]\u001b[0m\u001b[0;34m\u001b[0m\u001b[0;34m\u001b[0m\u001b[0m\n\u001b[0m\u001b[1;32m      7\u001b[0m \u001b[0;34m\u001b[0m\u001b[0m\n\u001b[1;32m      8\u001b[0m \u001b[0;31m# Find your domain reference\u001b[0m\u001b[0;34m\u001b[0m\u001b[0;34m\u001b[0m\u001b[0;34m\u001b[0m\u001b[0m\n",
      "\u001b[0;31mKeyError\u001b[0m: 'userReference'"
     ]
    }
   ],
   "source": [
    "# Find your user reference\n",
    "cmd = f\"curl https://api.aai.ebi.ac.uk/users/{your_aap_username} -H 'Authorization: Bearer {token}'\"\n",
    "proc = subprocess.Popen([cmd], stdout=subprocess.PIPE, shell=True)\n",
    "(out, err) = proc.communicate()\n",
    "out = json.loads(out.decode('utf-8'))\n",
    "user_reference = out['userReference']\n",
    "\n",
    "# Find your domain reference\n",
    "cmd = f\"curl https://api.aai.ebi.ac.uk/my/domains -H 'Authorization: Bearer {token}'\"\n",
    "proc = subprocess.Popen([cmd], stdout=subprocess.PIPE, shell=True)\n",
    "(out, err) = proc.communicate()\n",
    "out = json.loads(out.decode('utf-8'))\n",
    "# Here we use 0 to get first team from list, adjust this value to get team you need\n",
    "domain_reference = out[0]['domainReference']\n",
    "\n",
    "# Adding user to a team\n",
    "cmd = f\"curl 'https://api.aai.ebi.ac.uk/domains/{domain_reference}/{user_reference}/user' -X PUT -H 'Authorization: Bearer {token}' -H 'Accept: application/hal+json'\"\n",
    "proc = subprocess.Popen([cmd], stdout=subprocess.PIPE, shell=True)\n",
    "(out, err) = proc.communicate()\n",
    "out = json.loads(out.decode('utf-8'))\n",
    "print(out)\n",
    "# Each token includes all the details about who you are, and which teams you are a member of. You have now created \n",
    "# a new team and added yourself to it since you requested your first token, so that first token is out of date. You \n",
    "# should request a new one, as you did before. The new one will include the team you just created. You can use this \n",
    "# new token to access the submissions API."
   ]
  },
  {
   "cell_type": "code",
   "execution_count": null,
   "metadata": {},
   "outputs": [],
   "source": []
  }
 ],
 "metadata": {
  "kernelspec": {
   "display_name": "Python 3",
   "language": "python",
   "name": "python3"
  },
  "language_info": {
   "codemirror_mode": {
    "name": "ipython",
    "version": 3
   },
   "file_extension": ".py",
   "mimetype": "text/x-python",
   "name": "python",
   "nbconvert_exporter": "python",
   "pygments_lexer": "ipython3",
   "version": "3.7.2"
  }
 },
 "nbformat": 4,
 "nbformat_minor": 2
}
